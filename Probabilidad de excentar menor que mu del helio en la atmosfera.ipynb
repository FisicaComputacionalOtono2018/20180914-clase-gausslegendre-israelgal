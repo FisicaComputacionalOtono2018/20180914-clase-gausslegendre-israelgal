{
 "cells": [
  {
   "cell_type": "code",
   "execution_count": 40,
   "metadata": {},
   "outputs": [
    {
     "data": {
      "text/latex": [
       "$$x{\\left (t \\right )} = C_{1} e^{- t \\sqrt{- \\frac{k}{m}}} + C_{2} e^{t \\sqrt{- \\frac{k}{m}}}$$"
      ],
      "text/plain": [
       "                  _____             _____\n",
       "                 ╱ -k              ╱ -k  \n",
       "           -t⋅  ╱  ───        t⋅  ╱  ─── \n",
       "              ╲╱    m           ╲╱    m  \n",
       "x(t) = C₁⋅ℯ             + C₂⋅ℯ           "
      ]
     },
     "execution_count": 40,
     "metadata": {},
     "output_type": "execute_result"
    }
   ],
   "source": [
    "%matplotlib inline\n",
    "\n",
    "import matplotlib.pyplot as plt\n",
    "import numpy as np\n",
    "import sympy \n",
    "sympy.init_printing(use_latex='mathjax')\n",
    "\n",
    "t = sympy.Symbol('t')\n",
    "k = sympy.Symbol('k')\n",
    "m = sympy.Symbol('m')\n",
    "x = sympy.Function('x')\n",
    "\n",
    "# expreso la ecuacion\n",
    "f=-k*x(t)/m\n",
    "#sympy.Eq(x(t).diff(t, t), f)\n",
    "\n",
    "#Resuelvo la ecuacion\n",
    "sympy.dsolve(x(t).diff(t, t) - f)\n"
   ]
  },
  {
   "cell_type": "code",
   "execution_count": null,
   "metadata": {},
   "outputs": [],
   "source": [
    "import numpy as np \n",
    "import sympy as sp \n",
    "from sympy import*\n",
    "#sympy.init_printing()\n",
    "x,t,n,l=symbols('x,y,n,l')\n",
    "\n",
    "\n",
    "def derive(f,nd):\n",
    "    t=f\n",
    "    for j in range(1,nd+1):\n",
    "        d=sp.diff(f.subs(y,y(x)),x)\n",
    "        f=d.subs(sp.Derivative(y(x),x),t).subs(y(x),y)\n",
    "    return f\n",
    "\n",
    "\n",
    "def taylorg(f,a,b,h,m,k):\n",
    "    u=np.zeros([m,2])\n",
    "    D=[ ]\n",
    "    for j in range(1,k+1):\n",
    "        D=D+[derive(f,j)]\n",
    "        \n",
    "    for i in range(m):\n",
    "        g=f.subs(x,a).subs(y,b)\n",
    "        t=b+h*g\n",
    "        for j in range(1,k+1):\n",
    "            z=D[j-1].subs(x,a).subs(y,b)\n",
    "            t=float(t+h**(j+1)/sp.factorial(j+1)*z)\n",
    "        b=t\n",
    "        a=a+h\n",
    "        u[i,0]=a\n",
    "        u[i,1]=b\n",
    "    return u\n",
    "\n",
    "\n",
    "\n",
    "f=y+x-x**2+1\n",
    "u=taylorg(f,0,1,0.1,5,3)\n",
    "print(u"
   ]
  },
  {
   "cell_type": "code",
   "execution_count": 30,
   "metadata": {},
   "outputs": [
    {
     "ename": "SyntaxError",
     "evalue": "invalid syntax (<ipython-input-30-3562bf364cda>, line 11)",
     "output_type": "error",
     "traceback": [
      "\u001b[1;36m  File \u001b[1;32m\"<ipython-input-30-3562bf364cda>\"\u001b[1;36m, line \u001b[1;32m11\u001b[0m\n\u001b[1;33m    f=d.subs(sp.Derivative(x(t),t),q).subs(x(t),x)\u001b[0m\n\u001b[1;37m    ^\u001b[0m\n\u001b[1;31mSyntaxError\u001b[0m\u001b[1;31m:\u001b[0m invalid syntax\n"
     ]
    }
   ],
   "source": [
    "import sympy as sp \n",
    "from sympy import*\n",
    "sympy.init_printing()\n",
    "x,t,n,l=symbols('x,t,n,l')\n",
    "\n",
    "\n",
    "def derive(f,nd):\n",
    "    q=f\n",
    "    for j in range(1,nd+1):\n",
    "        d=sp.diff(f.subs(x,x(t),t)\n",
    "        f=d.subs(sp.Derivative(x(t),t),q).subs(x(t),x)       \n",
    "    return f\n",
    "\n",
    "\n",
    "\n",
    "\n",
    "f=-l*x/n\n",
    "d=derive(f,1)\n",
    "d"
   ]
  },
  {
   "cell_type": "code",
   "execution_count": null,
   "metadata": {},
   "outputs": [],
   "source": [
    "import sympy as sp \n",
    "from sympy import*\n",
    "sympy.init_printing()\n",
    "x,t,n,l=symbols('x,y,n,l')\n",
    "\n",
    "def derive(f,nd):\n",
    "    t=f\n",
    "    for j in range(1,nd+1):\n",
    "        d=sp.diff(f.subs(y,y(x)),x)\n",
    "        f=d.subs(sp.Derivative(y(x),x),t).subs(y(x),y)\n",
    "    return f\n",
    "\n",
    "\n"
   ]
  },
  {
   "cell_type": "code",
   "execution_count": 37,
   "metadata": {},
   "outputs": [
    {
     "data": {
      "text/latex": [
       "$$- \\frac{l}{n} \\frac{d^{2}}{d t^{2}}  x{\\left (t \\right )}$$"
      ],
      "text/plain": [
       "     2       \n",
       "    d        \n",
       "-l⋅───(x(t)) \n",
       "     2       \n",
       "   dt        \n",
       "─────────────\n",
       "      n      "
      ]
     },
     "execution_count": 37,
     "metadata": {},
     "output_type": "execute_result"
    }
   ],
   "source": [
    "%matplotlib inline\n",
    "\n",
    "import sympy as sp \n",
    "from sympy import*\n",
    "sympy.init_printing(use_latex='mathjax')\n",
    "\n",
    "x,t,n,l=symbols('x,t,n,l')\n",
    "\n",
    "\n",
    "f=-l*x/n\n",
    "\n",
    "d=f.subs(x,x(t))\n",
    "sp.diff(d,t,2)\n",
    "\n"
   ]
  },
  {
   "cell_type": "code",
   "execution_count": null,
   "metadata": {},
   "outputs": [],
   "source": []
  }
 ],
 "metadata": {
  "kernelspec": {
   "display_name": "Python 3",
   "language": "python",
   "name": "python3"
  },
  "language_info": {
   "codemirror_mode": {
    "name": "ipython",
    "version": 3
   },
   "file_extension": ".py",
   "mimetype": "text/x-python",
   "name": "python",
   "nbconvert_exporter": "python",
   "pygments_lexer": "ipython3",
   "version": "3.6.5"
  }
 },
 "nbformat": 4,
 "nbformat_minor": 2
}
